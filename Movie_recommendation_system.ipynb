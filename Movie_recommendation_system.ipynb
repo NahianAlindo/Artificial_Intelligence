{
  "nbformat": 4,
  "nbformat_minor": 0,
  "metadata": {
    "colab": {
      "name": "Movie_recommendation_system.ipynb",
      "provenance": [],
      "authorship_tag": "ABX9TyOM0xmTkEdD2CTmzFyoyQp+",
      "include_colab_link": true
    },
    "kernelspec": {
      "name": "python3",
      "display_name": "Python 3"
    }
  },
  "cells": [
    {
      "cell_type": "markdown",
      "metadata": {
        "id": "view-in-github",
        "colab_type": "text"
      },
      "source": [
        "<a href=\"https://colab.research.google.com/github/NahianAlindo/Artificial_Intelligence/blob/master/Movie_recommendation_system.ipynb\" target=\"_parent\"><img src=\"https://colab.research.google.com/assets/colab-badge.svg\" alt=\"Open In Colab\"/></a>"
      ]
    },
    {
      "cell_type": "code",
      "metadata": {
        "id": "jodDRuA5_NDM",
        "colab_type": "code",
        "colab": {
          "base_uri": "https://localhost:8080/",
          "height": 411
        },
        "outputId": "d2c89fd2-f946-47ee-a358-21b5863ec781"
      },
      "source": [
        "!pip install lightfm\n",
        "import numpy as np\n",
        "from lightfm.datasets import fetch_movielens\n",
        "from lightfm import LightFM\n",
        "\n",
        "#fetch data and format the data\n",
        "data= fetch_movielens(min_rating=4.0)\n",
        "\n",
        "# print training and testing data\n",
        "print(repr(data['train']))\n",
        "print(repr(data['test']))\n",
        "\n",
        "# model creation\n",
        "model = LightFM(loss = 'warp')\n",
        "#train model \n",
        "model.fit(data['train'], epochs=30, num_threads=2)"
      ],
      "execution_count": 2,
      "outputs": [
        {
          "output_type": "stream",
          "text": [
            "Collecting lightfm\n",
            "\u001b[?25l  Downloading https://files.pythonhosted.org/packages/e9/8e/5485ac5a8616abe1c673d1e033e2f232b4319ab95424b42499fabff2257f/lightfm-1.15.tar.gz (302kB)\n",
            "\r\u001b[K     |█                               | 10kB 17.3MB/s eta 0:00:01\r\u001b[K     |██▏                             | 20kB 1.8MB/s eta 0:00:01\r\u001b[K     |███▎                            | 30kB 2.3MB/s eta 0:00:01\r\u001b[K     |████▍                           | 40kB 2.6MB/s eta 0:00:01\r\u001b[K     |█████▍                          | 51kB 2.0MB/s eta 0:00:01\r\u001b[K     |██████▌                         | 61kB 2.3MB/s eta 0:00:01\r\u001b[K     |███████▋                        | 71kB 2.5MB/s eta 0:00:01\r\u001b[K     |████████▊                       | 81kB 2.8MB/s eta 0:00:01\r\u001b[K     |█████████▊                      | 92kB 2.9MB/s eta 0:00:01\r\u001b[K     |██████████▉                     | 102kB 2.8MB/s eta 0:00:01\r\u001b[K     |████████████                    | 112kB 2.8MB/s eta 0:00:01\r\u001b[K     |█████████████                   | 122kB 2.8MB/s eta 0:00:01\r\u001b[K     |██████████████                  | 133kB 2.8MB/s eta 0:00:01\r\u001b[K     |███████████████▏                | 143kB 2.8MB/s eta 0:00:01\r\u001b[K     |████████████████▎               | 153kB 2.8MB/s eta 0:00:01\r\u001b[K     |█████████████████▍              | 163kB 2.8MB/s eta 0:00:01\r\u001b[K     |██████████████████▍             | 174kB 2.8MB/s eta 0:00:01\r\u001b[K     |███████████████████▌            | 184kB 2.8MB/s eta 0:00:01\r\u001b[K     |████████████████████▋           | 194kB 2.8MB/s eta 0:00:01\r\u001b[K     |█████████████████████▊          | 204kB 2.8MB/s eta 0:00:01\r\u001b[K     |██████████████████████▊         | 215kB 2.8MB/s eta 0:00:01\r\u001b[K     |███████████████████████▉        | 225kB 2.8MB/s eta 0:00:01\r\u001b[K     |█████████████████████████       | 235kB 2.8MB/s eta 0:00:01\r\u001b[K     |██████████████████████████      | 245kB 2.8MB/s eta 0:00:01\r\u001b[K     |███████████████████████████     | 256kB 2.8MB/s eta 0:00:01\r\u001b[K     |████████████████████████████▏   | 266kB 2.8MB/s eta 0:00:01\r\u001b[K     |█████████████████████████████▎  | 276kB 2.8MB/s eta 0:00:01\r\u001b[K     |██████████████████████████████▍ | 286kB 2.8MB/s eta 0:00:01\r\u001b[K     |███████████████████████████████▍| 296kB 2.8MB/s eta 0:00:01\r\u001b[K     |████████████████████████████████| 307kB 2.8MB/s \n",
            "\u001b[?25hRequirement already satisfied: numpy in /usr/local/lib/python3.6/dist-packages (from lightfm) (1.18.5)\n",
            "Requirement already satisfied: scipy>=0.17.0 in /usr/local/lib/python3.6/dist-packages (from lightfm) (1.4.1)\n",
            "Requirement already satisfied: requests in /usr/local/lib/python3.6/dist-packages (from lightfm) (2.23.0)\n",
            "Requirement already satisfied: certifi>=2017.4.17 in /usr/local/lib/python3.6/dist-packages (from requests->lightfm) (2020.4.5.1)\n",
            "Requirement already satisfied: urllib3!=1.25.0,!=1.25.1,<1.26,>=1.21.1 in /usr/local/lib/python3.6/dist-packages (from requests->lightfm) (1.24.3)\n",
            "Requirement already satisfied: chardet<4,>=3.0.2 in /usr/local/lib/python3.6/dist-packages (from requests->lightfm) (3.0.4)\n",
            "Requirement already satisfied: idna<3,>=2.5 in /usr/local/lib/python3.6/dist-packages (from requests->lightfm) (2.9)\n",
            "Building wheels for collected packages: lightfm\n",
            "  Building wheel for lightfm (setup.py) ... \u001b[?25l\u001b[?25hdone\n",
            "  Created wheel for lightfm: filename=lightfm-1.15-cp36-cp36m-linux_x86_64.whl size=707633 sha256=2e7fc1389178345fe3b6369880626e566799cb982bb08c632972d94351e60f66\n",
            "  Stored in directory: /root/.cache/pip/wheels/eb/bb/ac/188385a5da6627956be5d9663928483b36da576149ab5b8f79\n",
            "Successfully built lightfm\n",
            "Installing collected packages: lightfm\n",
            "Successfully installed lightfm-1.15\n",
            "<943x1682 sparse matrix of type '<class 'numpy.int32'>'\n",
            "\twith 49906 stored elements in COOrdinate format>\n",
            "<943x1682 sparse matrix of type '<class 'numpy.int32'>'\n",
            "\twith 5469 stored elements in COOrdinate format>\n"
          ],
          "name": "stdout"
        },
        {
          "output_type": "execute_result",
          "data": {
            "text/plain": [
              "<lightfm.lightfm.LightFM at 0x7f86e9219128>"
            ]
          },
          "metadata": {
            "tags": []
          },
          "execution_count": 2
        }
      ]
    },
    {
      "cell_type": "code",
      "metadata": {
        "id": "TcIge74hCaac",
        "colab_type": "code",
        "colab": {}
      },
      "source": [
        "def sample_recommendation(model, data, user_ids):\n",
        "   #number of user and movies in train data\n",
        "   n_users, n_items= data['train'].shape\n",
        "\n",
        "   #generate recomm for each input user\n",
        "   for user_id in user_ids:\n",
        "     #movies already liked by users\n",
        "     known_positives = data['item_labels'][data['train'].tocsr()[user_id].indices]\n",
        "\n",
        "     #movies the model predicts they may like\n",
        "     scores= model.predict(user_id, np.arange(n_items))\n",
        "     #rank them in order of rating\n",
        "     top_items = data['item_labels'][np.argsort(-scores)]\n",
        "     \n",
        "     #print results\n",
        "     print(\"User %s\" % user_id)\n",
        "     print(\" Known positives:\")\n",
        "\n",
        "     for x in known_positives[:3]:\n",
        "       print(\"   %s\" % x)\n",
        "\n",
        "     print(\" Recommended:\")\n",
        "\n",
        "     for x in top_items[:3]:\n",
        "       print(\"   %s\" % x)"
      ],
      "execution_count": 0,
      "outputs": []
    },
    {
      "cell_type": "code",
      "metadata": {
        "id": "h6FTki9rD3s2",
        "colab_type": "code",
        "colab": {
          "base_uri": "https://localhost:8080/",
          "height": 476
        },
        "outputId": "424a1b5a-4923-4108-fcc7-74693e246548"
      },
      "source": [
        "sample_recommendation(model, data, [3, 25, 450])"
      ],
      "execution_count": 7,
      "outputs": [
        {
          "output_type": "stream",
          "text": [
            "User 3\n",
            " Known positives:\n",
            "   Seven (Se7en) (1995)\n",
            "   Contact (1997)\n",
            "   Starship Troopers (1997)\n",
            " Recommended:\n",
            "   Scream (1996)\n",
            "   Chasing Amy (1997)\n",
            "   Titanic (1997)\n",
            "User 25\n",
            " Known positives:\n",
            "   Dead Man Walking (1995)\n",
            "   Star Wars (1977)\n",
            "   Fargo (1996)\n",
            " Recommended:\n",
            "   English Patient, The (1996)\n",
            "   Fargo (1996)\n",
            "   Contact (1997)\n",
            "User 450\n",
            " Known positives:\n",
            "   Contact (1997)\n",
            "   George of the Jungle (1997)\n",
            "   Event Horizon (1997)\n",
            " Recommended:\n",
            "   Air Force One (1997)\n",
            "   Kiss the Girls (1997)\n",
            "   Seven Years in Tibet (1997)\n"
          ],
          "name": "stdout"
        }
      ]
    },
    {
      "cell_type": "code",
      "metadata": {
        "id": "XV5OdrFqEPYX",
        "colab_type": "code",
        "colab": {}
      },
      "source": [
        ""
      ],
      "execution_count": 0,
      "outputs": []
    }
  ]
}